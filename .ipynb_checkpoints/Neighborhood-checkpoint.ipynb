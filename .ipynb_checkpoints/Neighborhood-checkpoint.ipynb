{
 "cells": [
  {
   "cell_type": "code",
   "execution_count": 18,
   "metadata": {},
   "outputs": [
    {
     "name": "stdout",
     "output_type": "stream",
     "text": [
      "Requirement already satisfied: beautifulsoup4 in c:\\users\\nguyenthevinh\\appdata\\local\\programs\\python\\python38-32\\lib\\site-packages (4.8.2)\n",
      "Requirement already satisfied: soupsieve>=1.2 in c:\\users\\nguyenthevinh\\appdata\\local\\programs\\python\\python38-32\\lib\\site-packages (from beautifulsoup4) (2.0)\n",
      "Note: you may need to restart the kernel to use updated packages.\n",
      "Requirement already satisfied: lxml in c:\\users\\nguyenthevinh\\appdata\\local\\programs\\python\\python38-32\\lib\\site-packages (4.5.0)\n",
      "Note: you may need to restart the kernel to use updated packages.\n",
      "Collecting pandas\n",
      "  Downloading pandas-1.0.1-cp38-cp38-win32.whl (7.8 MB)\n",
      "Requirement already satisfied: python-dateutil>=2.6.1 in c:\\users\\nguyenthevinh\\appdata\\local\\programs\\python\\python38-32\\lib\\site-packages (from pandas) (2.8.1)\n",
      "Collecting numpy>=1.13.3\n",
      "  Downloading numpy-1.18.1-cp38-cp38-win32.whl (10.8 MB)\n",
      "Collecting pytz>=2017.2\n",
      "  Downloading pytz-2019.3-py2.py3-none-any.whl (509 kB)\n",
      "Requirement already satisfied: six>=1.5 in c:\\users\\nguyenthevinh\\appdata\\local\\programs\\python\\python38-32\\lib\\site-packages (from python-dateutil>=2.6.1->pandas) (1.14.0)\n",
      "Installing collected packages: numpy, pytz, pandas\n",
      "Successfully installed numpy-1.18.1 pandas-1.0.1 pytz-2019.3\n",
      "Note: you may need to restart the kernel to use updated packages.\n"
     ]
    }
   ],
   "source": [
    "%pip install beautifulsoup4\n",
    "%pip install lxml\n",
    "%pip install pandas"
   ]
  },
  {
   "cell_type": "code",
   "execution_count": 26,
   "metadata": {},
   "outputs": [],
   "source": [
    "import urllib.request as rq\n",
    "from bs4 import BeautifulSoup\n",
    "import pandas as pd\n",
    "import re"
   ]
  },
  {
   "cell_type": "markdown",
   "metadata": {},
   "source": [
    "<h1>scavenge data from Wikipedia</h1>"
   ]
  },
  {
   "cell_type": "code",
   "execution_count": 2,
   "metadata": {},
   "outputs": [],
   "source": [
    "url = 'https://en.wikipedia.org/wiki/List_of_postal_codes_of_Canada:_M'\n",
    "page = rq.urlopen(url)\n",
    "soup = BeautifulSoup(page, \"lxml\")"
   ]
  },
  {
   "cell_type": "markdown",
   "metadata": {},
   "source": [
    "<h1>retrieve information from raw Wikipedia's data</h1>"
   ]
  },
  {
   "cell_type": "code",
   "execution_count": 149,
   "metadata": {},
   "outputs": [
    {
     "data": {
      "text/html": [
       "<div>\n",
       "<style scoped>\n",
       "    .dataframe tbody tr th:only-of-type {\n",
       "        vertical-align: middle;\n",
       "    }\n",
       "\n",
       "    .dataframe tbody tr th {\n",
       "        vertical-align: top;\n",
       "    }\n",
       "\n",
       "    .dataframe thead th {\n",
       "        text-align: right;\n",
       "    }\n",
       "</style>\n",
       "<table border=\"1\" class=\"dataframe\">\n",
       "  <thead>\n",
       "    <tr style=\"text-align: right;\">\n",
       "      <th></th>\n",
       "      <th>PostalCode</th>\n",
       "      <th>Borough</th>\n",
       "      <th>Neighborhood</th>\n",
       "    </tr>\n",
       "  </thead>\n",
       "  <tbody>\n",
       "    <tr>\n",
       "      <th>0</th>\n",
       "      <td>M1A</td>\n",
       "      <td>Not assigned</td>\n",
       "      <td>Not assigned\\n</td>\n",
       "    </tr>\n",
       "    <tr>\n",
       "      <th>1</th>\n",
       "      <td>M2A</td>\n",
       "      <td>Not assigned</td>\n",
       "      <td>Not assigned\\n</td>\n",
       "    </tr>\n",
       "    <tr>\n",
       "      <th>2</th>\n",
       "      <td>M3A</td>\n",
       "      <td>North York</td>\n",
       "      <td>Parkwoods</td>\n",
       "    </tr>\n",
       "    <tr>\n",
       "      <th>3</th>\n",
       "      <td>M4A</td>\n",
       "      <td>North York</td>\n",
       "      <td>Victoria Village</td>\n",
       "    </tr>\n",
       "    <tr>\n",
       "      <th>4</th>\n",
       "      <td>M5A</td>\n",
       "      <td>Downtown Toronto</td>\n",
       "      <td>Harbourfront</td>\n",
       "    </tr>\n",
       "    <tr>\n",
       "      <th>...</th>\n",
       "      <td>...</td>\n",
       "      <td>...</td>\n",
       "      <td>...</td>\n",
       "    </tr>\n",
       "    <tr>\n",
       "      <th>282</th>\n",
       "      <td>M8Z</td>\n",
       "      <td>Etobicoke</td>\n",
       "      <td>Mimico NW</td>\n",
       "    </tr>\n",
       "    <tr>\n",
       "      <th>283</th>\n",
       "      <td>M8Z</td>\n",
       "      <td>Etobicoke</td>\n",
       "      <td>The Queensway West</td>\n",
       "    </tr>\n",
       "    <tr>\n",
       "      <th>284</th>\n",
       "      <td>M8Z</td>\n",
       "      <td>Etobicoke</td>\n",
       "      <td>Royal York South West\\n</td>\n",
       "    </tr>\n",
       "    <tr>\n",
       "      <th>285</th>\n",
       "      <td>M8Z</td>\n",
       "      <td>Etobicoke</td>\n",
       "      <td>South of Bloor\\n</td>\n",
       "    </tr>\n",
       "    <tr>\n",
       "      <th>286</th>\n",
       "      <td>M9Z</td>\n",
       "      <td>Not assigned</td>\n",
       "      <td>Not assigned\\n</td>\n",
       "    </tr>\n",
       "  </tbody>\n",
       "</table>\n",
       "<p>287 rows × 3 columns</p>\n",
       "</div>"
      ],
      "text/plain": [
       "    PostalCode           Borough             Neighborhood\n",
       "0          M1A      Not assigned           Not assigned\\n\n",
       "1          M2A      Not assigned           Not assigned\\n\n",
       "2          M3A        North York                Parkwoods\n",
       "3          M4A        North York         Victoria Village\n",
       "4          M5A  Downtown Toronto             Harbourfront\n",
       "..         ...               ...                      ...\n",
       "282        M8Z         Etobicoke                Mimico NW\n",
       "283        M8Z         Etobicoke       The Queensway West\n",
       "284        M8Z         Etobicoke  Royal York South West\\n\n",
       "285        M8Z         Etobicoke         South of Bloor\\n\n",
       "286        M9Z      Not assigned           Not assigned\\n\n",
       "\n",
       "[287 rows x 3 columns]"
      ]
     },
     "execution_count": 149,
     "metadata": {},
     "output_type": "execute_result"
    }
   ],
   "source": [
    "#retrieve table\n",
    "all_tables = soup.find_all('table')\n",
    "right_table=soup.find('table', class_='wikitable sortable')\n",
    "#take data\n",
    "Postcode_data = []\n",
    "Borough_data = []\n",
    "Neighborhood_data = []\n",
    "for row in right_table.findAll('tr'):\n",
    "    cells = row.findAll('td')\n",
    "    if len(cells) == 3:\n",
    "        Postcode_data.append(cells[0].find(text=True))\n",
    "        Borough_data.append(cells[1].find(text=True))\n",
    "        Neighborhood_data.append(cells[2].find(text=True))\n",
    "\n",
    "df = pd.DataFrame({'PostalCode':Postcode_data, 'Borough':Borough_data, 'Neighborhood':Neighborhood_data})\n",
    "df"
   ]
  },
  {
   "cell_type": "markdown",
   "metadata": {},
   "source": [
    "<h1>Preprocessing</h1>"
   ]
  },
  {
   "cell_type": "markdown",
   "metadata": {},
   "source": [
    "<p>drop all 'Not assigned' value, fix value containing '\\n' and add value to Neighborhood if not yet exist </p>"
   ]
  },
  {
   "cell_type": "code",
   "execution_count": 150,
   "metadata": {},
   "outputs": [],
   "source": [
    "#preprocessing\n",
    "#drop all 'Not assigned' value and fix value containing '\\n'\n",
    "counter=0\n",
    "while counter < df.shape[0]:\n",
    "    for j in range(1,3):\n",
    "        if re.search('Not assigned.*',df.iloc[counter,j]) != None:\n",
    "            if j == 1:\n",
    "                df.drop(df.index[counter], axis=0, inplace=True)\n",
    "                counter -= 1\n",
    "            if j == 2:\n",
    "                df.iloc[counter,2] = df.iloc[counter,1]\n",
    "            break\n",
    "            \n",
    "        if re.search('.*\\n',df.iloc[counter,j]) != None:\n",
    "            df.iloc[counter,j] = df.iloc[counter,j][0:len(df.iloc[counter,j])-2]\n",
    "        \n",
    "    counter += 1"
   ]
  },
  {
   "cell_type": "markdown",
   "metadata": {},
   "source": [
    "<p>merge duplicates</p>"
   ]
  },
  {
   "cell_type": "code",
   "execution_count": 151,
   "metadata": {},
   "outputs": [
    {
     "data": {
      "text/html": [
       "<div>\n",
       "<style scoped>\n",
       "    .dataframe tbody tr th:only-of-type {\n",
       "        vertical-align: middle;\n",
       "    }\n",
       "\n",
       "    .dataframe tbody tr th {\n",
       "        vertical-align: top;\n",
       "    }\n",
       "\n",
       "    .dataframe thead th {\n",
       "        text-align: right;\n",
       "    }\n",
       "</style>\n",
       "<table border=\"1\" class=\"dataframe\">\n",
       "  <thead>\n",
       "    <tr style=\"text-align: right;\">\n",
       "      <th></th>\n",
       "      <th>PostalCode</th>\n",
       "      <th>Borough</th>\n",
       "      <th>Neighborhood</th>\n",
       "    </tr>\n",
       "  </thead>\n",
       "  <tbody>\n",
       "    <tr>\n",
       "      <th>0</th>\n",
       "      <td>M3A</td>\n",
       "      <td>North York</td>\n",
       "      <td>Parkwoods</td>\n",
       "    </tr>\n",
       "    <tr>\n",
       "      <th>1</th>\n",
       "      <td>M4A</td>\n",
       "      <td>North York</td>\n",
       "      <td>Victoria Village</td>\n",
       "    </tr>\n",
       "    <tr>\n",
       "      <th>2</th>\n",
       "      <td>M5A</td>\n",
       "      <td>Downtown Toronto</td>\n",
       "      <td>Harbourfront</td>\n",
       "    </tr>\n",
       "    <tr>\n",
       "      <th>3</th>\n",
       "      <td>M6A</td>\n",
       "      <td>North York</td>\n",
       "      <td>Lawrence Heights, Lawrence Manor</td>\n",
       "    </tr>\n",
       "    <tr>\n",
       "      <th>4</th>\n",
       "      <td>M7A</td>\n",
       "      <td>Downtown Toronto</td>\n",
       "      <td>Queen's Park</td>\n",
       "    </tr>\n",
       "    <tr>\n",
       "      <th>...</th>\n",
       "      <td>...</td>\n",
       "      <td>...</td>\n",
       "      <td>...</td>\n",
       "    </tr>\n",
       "    <tr>\n",
       "      <th>98</th>\n",
       "      <td>M8X</td>\n",
       "      <td>Etobicoke</td>\n",
       "      <td>The Kingsway, Montgomery Roa, Old Mill Nort</td>\n",
       "    </tr>\n",
       "    <tr>\n",
       "      <th>99</th>\n",
       "      <td>M4Y</td>\n",
       "      <td>Downtown Toronto</td>\n",
       "      <td>Church and Wellesley</td>\n",
       "    </tr>\n",
       "    <tr>\n",
       "      <th>100</th>\n",
       "      <td>M7Y</td>\n",
       "      <td>East Toronto</td>\n",
       "      <td>Business Reply Mail Processing Centre 969 Easter</td>\n",
       "    </tr>\n",
       "    <tr>\n",
       "      <th>101</th>\n",
       "      <td>M8Y</td>\n",
       "      <td>Etobicoke</td>\n",
       "      <td>Humber Bay, King's Mill Par, Kingsway Park Sou...</td>\n",
       "    </tr>\n",
       "    <tr>\n",
       "      <th>102</th>\n",
       "      <td>M8Z</td>\n",
       "      <td>Etobicoke</td>\n",
       "      <td>Kingsway Park South Wes, Mimico NW, The Queens...</td>\n",
       "    </tr>\n",
       "  </tbody>\n",
       "</table>\n",
       "<p>103 rows × 3 columns</p>\n",
       "</div>"
      ],
      "text/plain": [
       "    PostalCode           Borough  \\\n",
       "0          M3A        North York   \n",
       "1          M4A        North York   \n",
       "2          M5A  Downtown Toronto   \n",
       "3          M6A        North York   \n",
       "4          M7A  Downtown Toronto   \n",
       "..         ...               ...   \n",
       "98         M8X         Etobicoke   \n",
       "99         M4Y  Downtown Toronto   \n",
       "100        M7Y      East Toronto   \n",
       "101        M8Y         Etobicoke   \n",
       "102        M8Z         Etobicoke   \n",
       "\n",
       "                                          Neighborhood  \n",
       "0                                            Parkwoods  \n",
       "1                                     Victoria Village  \n",
       "2                                         Harbourfront  \n",
       "3                     Lawrence Heights, Lawrence Manor  \n",
       "4                                         Queen's Park  \n",
       "..                                                 ...  \n",
       "98         The Kingsway, Montgomery Roa, Old Mill Nort  \n",
       "99                                Church and Wellesley  \n",
       "100   Business Reply Mail Processing Centre 969 Easter  \n",
       "101  Humber Bay, King's Mill Par, Kingsway Park Sou...  \n",
       "102  Kingsway Park South Wes, Mimico NW, The Queens...  \n",
       "\n",
       "[103 rows x 3 columns]"
      ]
     },
     "execution_count": 151,
     "metadata": {},
     "output_type": "execute_result"
    }
   ],
   "source": [
    "#merge duplicates\n",
    "size = df.shape[0]\n",
    "unique = df['PostalCode'].unique()\n",
    "borough = []\n",
    "neighbors = []\n",
    "\n",
    "count = -1\n",
    "current = ''\n",
    "for b in range(size):\n",
    "    if df.iloc[b,0] == current:\n",
    "        neighbors[count] += ', ' + df.iloc[b,2]\n",
    "    else:\n",
    "        current = df.iloc[b,0]\n",
    "        neighbors.append(df.iloc[b,2])\n",
    "        borough.append(df.iloc[b,1])\n",
    "        count += 1\n",
    "\n",
    "df = pd.DataFrame({'PostalCode':unique, 'Borough':borough, 'Neighborhood':neighbors})\n",
    "df"
   ]
  },
  {
   "cell_type": "markdown",
   "metadata": {},
   "source": [
    "<p>check if there are duplicates</p>"
   ]
  },
  {
   "cell_type": "code",
   "execution_count": 152,
   "metadata": {},
   "outputs": [
    {
     "name": "stdout",
     "output_type": "stream",
     "text": [
      "Duplicates = 0\n"
     ]
    }
   ],
   "source": [
    "#check if there are duplicates\n",
    "bool_series = df.duplicated('PostalCode').values\n",
    "duplicates = 0\n",
    "for i in bool_series:\n",
    "    if i == True:\n",
    "        duplicates += 1\n",
    "        \n",
    "print('Duplicates = {0}'.format(duplicates))"
   ]
  },
  {
   "cell_type": "markdown",
   "metadata": {},
   "source": [
    "<h1>Show Shape</h1>"
   ]
  },
  {
   "cell_type": "code",
   "execution_count": 153,
   "metadata": {},
   "outputs": [
    {
     "name": "stdout",
     "output_type": "stream",
     "text": [
      "Data Frame shape = (103, 3)\n"
     ]
    }
   ],
   "source": [
    "print('Data Frame shape = {0}'.format(df.shape))"
   ]
  }
 ],
 "metadata": {
  "kernelspec": {
   "display_name": "Python 3",
   "language": "python",
   "name": "python3"
  },
  "language_info": {
   "codemirror_mode": {
    "name": "ipython",
    "version": 3
   },
   "file_extension": ".py",
   "mimetype": "text/x-python",
   "name": "python",
   "nbconvert_exporter": "python",
   "pygments_lexer": "ipython3",
   "version": "3.8.0"
  }
 },
 "nbformat": 4,
 "nbformat_minor": 4
}
