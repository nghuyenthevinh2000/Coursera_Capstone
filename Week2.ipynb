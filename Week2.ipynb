{
 "cells": [
  {
   "cell_type": "markdown",
   "metadata": {},
   "source": [
    "<h1> Week 1 Assignment </h1>"
   ]
  },
  {
   "cell_type": "markdown",
   "metadata": {},
   "source": [
    "<b>1. Task</b>"
   ]
  },
  {
   "cell_type": "markdown",
   "metadata": {},
   "source": [
    "<p>In the city of Hanoi, capital city of Viet Nam, I will explore which place is best to open a restaurant</p>"
   ]
  },
  {
   "cell_type": "markdown",
   "metadata": {},
   "source": [
    "<b>2. Description of the problem and background</b>"
   ]
  },
  {
   "cell_type": "markdown",
   "metadata": {},
   "source": [
    "a. Problem"
   ]
  },
  {
   "cell_type": "markdown",
   "metadata": {},
   "source": [
    "Opening a restaurant is the easiest way to make money. On the contrary, it is way more complicated. So how complicated? There are many factors one has to consider before opening a restaurant. One deciding factor is location. Why location? A luxury restaurant in a poor village, a beef-specialized restaurant in Hindus community are all examples of poor choice of location. How to choose a good location? Worst news is that there is no correct answer like in maths. We have to use try-and-error method to figure out which works well and which doesn't. Changing restaurant's location several time really hurts one's pocket. It is a costly process. A process which can be greatly reduced in cost if we utilize Data Science.\n",
    "\n",
    "This task provides suggestions of place for those looking to open a restaurant."
   ]
  },
  {
   "cell_type": "markdown",
   "metadata": {},
   "source": [
    "b. Background and Environment"
   ]
  },
  {
   "cell_type": "markdown",
   "metadata": {},
   "source": [
    "1. The problem is to find out a perfect place to open a restaurant. Which criteria constitute a perfect place for restaurants for which kind of restaurant? User will give information about their kind of restaurant. Based on this information, suggestions will be delivered. So there are places reserved only for some kinds of restaurant. This is a difficult challenge.\n",
    "\n",
    "2. In Viet Nam, data is not very transparent and often hard to extract. The only data I can have is from gorvernment site which is very general and does not serve any specific purposes. A lot of deduction will have to be drawed out to find necessary information.\n",
    "\n",
    "3. Multidisciplinary-Company owned restaurant is also another challenge since their headquarters are often not where the restaurant resides.\n",
    "\n",
    "I will discuss ways to deal with these problems "
   ]
  },
  {
   "cell_type": "markdown",
   "metadata": {},
   "source": [
    "<b>3. Description of data</b>"
   ]
  },
  {
   "cell_type": "markdown",
   "metadata": {},
   "source": [
    "The data is tax profiles from government. It is the only transparent source I can find and I have to make do with it. It still can provide some useful insights though.\n",
    "\n",
    "- Name of the company\n",
    "- Tax code\n",
    "- Industry\n",
    "- Day of formation\n",
    "- Head quarter location\n",
    "\n",
    "a. How will I use this information?\n",
    "- Tax code is a unique ID assigned to each company\n",
    "- Industry clearly lists all disciplines of a company. The number of disciplines can also be used to deal with problem 3 above. Too many disciplines mean that there is a high change its head quarter location has different location from its restaurant. \n",
    "- Day of formation provides information of how long a restaurant has been opened and survived. The longer the better. I will cluster all long - live restaurant to see which area has a high change of survival for restaurant and assess its surroundings to see the reason.\n",
    "- Head quarter location provides me with location of the restaurant. \n",
    "Identify the area and which restaurants in the area.\n",
    "\n",
    "b. Tax profiles are not sufficient enough so FourSquare is needed to assess an area.\n",
    "- what does it sell the most?\n",
    "- who does it sell the most?\n",
    "- what is its quality assessed by others?\n",
    "- how about its surroundings?\n",
    "these are four questions to be answered by drawing data from FourSquare. It will show which customers and which dishes sell best in the area.\n",
    "The fourth question is to look for another place with less popularity but has similar surroundings"
   ]
  },
  {
   "cell_type": "code",
   "execution_count": 61,
   "metadata": {},
   "outputs": [],
   "source": [
    "import requests\n",
    "import pandas as pd\n",
    "import numpy as np\n",
    "import re"
   ]
  },
  {
   "cell_type": "code",
   "execution_count": 39,
   "metadata": {},
   "outputs": [],
   "source": [
    "url = 'https://thongtindoanhnghiep.co/api/industry'\n",
    "\n",
    "responses = requests.get(url)\n",
    "data = responses.json()\n",
    "\n",
    "df = pd.DataFrame(data['LtsItem'])"
   ]
  },
  {
   "cell_type": "markdown",
   "metadata": {},
   "source": [
    "<b>Extract Information about company from Hanoi's Tax Collection Data</b>"
   ]
  },
  {
   "cell_type": "markdown",
   "metadata": {},
   "source": [
    "Industry code"
   ]
  },
  {
   "cell_type": "code",
   "execution_count": 40,
   "metadata": {},
   "outputs": [
    {
     "name": "stdout",
     "output_type": "stream",
     "text": [
      "['nha-hang-quan-an-hang-an-uong', 'dich-vu-an-uong-phuc-vu-luu-dong-khac', 'cung-cap-dich-vu-an-uong-theo-hop-dong-khong-thuong-xuyen-voi-khach-hang-phuc-vu-tiec-hoi-hop-dam-cuoi', 'dich-vu-an-uong-khac', 'nha-hang-va-cac-dich-vu-an-uong-phuc-vu-luu-dong', 'cung-cap-dich-vu-an-uong-theo-hop-dong-khong-thuong-xuyen-va-dich-vu-an-uong-khac', 'dich-vu-an-uong']\n"
     ]
    }
   ],
   "source": [
    "industry = []\n",
    "industry_code = {'Lv5':['56101','56109','56210','56290'],'Lv4':['5610'],'Lv3':['562'],'Lv2':['56']}\n",
    "for i in industry_code:\n",
    "    for j in industry_code[i]:\n",
    "        string = df[df[i] == j]['SolrID'].values[0]\n",
    "        industry.append(string[12:len(string)])\n",
    "\n",
    "print(industry)"
   ]
  },
  {
   "cell_type": "code",
   "execution_count": 100,
   "metadata": {},
   "outputs": [
    {
     "name": "stdout",
     "output_type": "stream",
     "text": [
      "100\n",
      "200\n",
      "300\n",
      "400\n",
      "500\n",
      "600\n",
      "700\n",
      "800\n",
      "900\n",
      "1000\n",
      "1100\n",
      "1200\n",
      "1300\n",
      "1400\n",
      "1500\n",
      "1600\n",
      "1700\n",
      "1800\n",
      "1900\n",
      "2000\n"
     ]
    }
   ],
   "source": [
    "i=1\n",
    "file = open('tax_code.txt','a')\n",
    "\n",
    "all_tax_code = list()\n",
    "while i < 2001:\n",
    "    url = 'https://thongtindoanhnghiep.co/api/company?l=ha-noi&i=dich-vu-an-uong&p={0}'.format(i)\n",
    "    res = requests.get(url)\n",
    "    pattern = '\"MaSoThue\":\"\\d*\"'\n",
    "    x = re.findall(pattern,res.text)\n",
    "    #process x\n",
    "    for j in range(len(x)):\n",
    "        x[j] = x[j][12:len(x[j])-1] \n",
    "        file.write(x[j]+',')\n",
    "    i += 1\n",
    "    if i % 100 == 0:\n",
    "        print(i)\n",
    "    \n",
    "file.close()"
   ]
  },
  {
   "cell_type": "code",
   "execution_count": null,
   "metadata": {},
   "outputs": [],
   "source": []
  }
 ],
 "metadata": {
  "kernelspec": {
   "display_name": "Python 3",
   "language": "python",
   "name": "python3"
  },
  "language_info": {
   "codemirror_mode": {
    "name": "ipython",
    "version": 3
   },
   "file_extension": ".py",
   "mimetype": "text/x-python",
   "name": "python",
   "nbconvert_exporter": "python",
   "pygments_lexer": "ipython3",
   "version": "3.8.0"
  }
 },
 "nbformat": 4,
 "nbformat_minor": 4
}
