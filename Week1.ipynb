{
 "cells": [
  {
   "cell_type": "markdown",
   "metadata": {},
   "source": [
    "<h1> Week 1 Assignment </h1>"
   ]
  },
  {
   "cell_type": "markdown",
   "metadata": {},
   "source": [
    "<b>1. Task</b>"
   ]
  },
  {
   "cell_type": "markdown",
   "metadata": {},
   "source": [
    "<p>In the city of Hanoi, capital city of Viet Nam, I will explore which place is best to open a restaurant</p>"
   ]
  },
  {
   "cell_type": "markdown",
   "metadata": {},
   "source": [
    "<b>2. Description of the problem and background</b>"
   ]
  },
  {
   "cell_type": "markdown",
   "metadata": {},
   "source": [
    "a. Problem"
   ]
  },
  {
   "cell_type": "markdown",
   "metadata": {},
   "source": [
    "Opening a restaurant is the easiest way to make money. On the contrary, it is way more complicated. So how complicated? There are many factors one has to consider before opening a restaurant. One deciding factor is location. Why location? A luxury restaurant in a poor village, a beef-specialized restaurant in Hindus community are all examples of poor choice of location. How to choose a good location? Worst news is that there is no correct answer like in maths. We have to use try-and-error method to figure out which works well and which doesn't. Changing restaurant's location several time really hurts one's pocket. It is a costly process. A process which can be greatly reduced in cost if we utilize Data Science.\n",
    "\n",
    "This task provides suggestions of place for those looking to open a restaurant."
   ]
  },
  {
   "cell_type": "markdown",
   "metadata": {},
   "source": [
    "b. Background and Environment"
   ]
  },
  {
   "cell_type": "markdown",
   "metadata": {},
   "source": [
    "1. The problem is to find out a perfect place to open a restaurant. Which criteria constitute a perfect place for restaurants for which kind of restaurant? User will give information about their kind of restaurant. Based on this information, suggestions will be delivered. So there are places reserved only for some kinds of restaurant. This is a difficult challenge.\n",
    "\n",
    "2. In Viet Nam, data is not very transparent and often hard to extract. The only data I can have is from gorvernment site which is very general and does not serve any specific purposes. A lot of deduction will have to be drawed out to find necessary information.\n",
    "\n",
    "3. Multidisciplinary-Company owned restaurant is also another challenge since their headquarters are often not where the restaurant resides.\n",
    "\n",
    "I will discuss ways to deal with these problems "
   ]
  },
  {
   "cell_type": "markdown",
   "metadata": {},
   "source": [
    "<b>3. Description of data</b>"
   ]
  },
  {
   "cell_type": "markdown",
   "metadata": {},
   "source": [
    "The data is tax profiles from government. It is the only transparent source I can find and I have to make do with it. It still can provide some useful insights though.\n",
    "\n",
    "- Name of the company\n",
    "- Tax code\n",
    "- Industry\n",
    "- Day of formation\n",
    "- Head quarter location\n",
    "\n",
    "a. How will I use this information?\n",
    "- Tax code is a unique ID assigned to each company\n",
    "- Industry clearly lists all disciplines of a company. The number of disciplines can also be used to deal with problem 3 above. Too many disciplines mean that there is a high change its head quarter location has different location from its restaurant. \n",
    "- Day of formation provides information of how long a restaurant has been opened and survived. The longer the better. I will cluster all long - live restaurant to see which area has a high change of survival for restaurant and assess its surroundings to see the reason.\n",
    "- Head quarter location provides me with location of the restaurant. \n",
    "\n",
    "\n",
    "Identify the area and which restaurants in the area.\n",
    "\n",
    "b. Tax profiles are not sufficient enough so FourSquare is needed to assess an area.\n",
    "- what does it sell the most?\n",
    "- who does it sell the most?\n",
    "- what is its quality assessed by others?\n",
    "- how about its surroundings?\n",
    "\n",
    "\n",
    "These are four questions to be answered by drawing data from FourSquare. It will show which customers and which dishes sell best in the area.\n",
    "The fourth question is to look for another place with less popularity but has similar surroundings"
   ]
  },
  {
   "cell_type": "code",
   "execution_count": null,
   "metadata": {},
   "outputs": [],
   "source": []
  }
 ],
 "metadata": {
  "kernelspec": {
   "display_name": "Python 3",
   "language": "python",
   "name": "python3"
  },
  "language_info": {
   "codemirror_mode": {
    "name": "ipython",
    "version": 3
   },
   "file_extension": ".py",
   "mimetype": "text/x-python",
   "name": "python",
   "nbconvert_exporter": "python",
   "pygments_lexer": "ipython3",
   "version": "3.8.0"
  }
 },
 "nbformat": 4,
 "nbformat_minor": 4
}
